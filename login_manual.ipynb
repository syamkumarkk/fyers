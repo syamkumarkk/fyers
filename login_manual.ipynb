{
 "cells": [
  {
   "cell_type": "code",
   "execution_count": 14,
   "id": "af2e6811-e33e-48e1-a2d5-876500ef9397",
   "metadata": {},
   "outputs": [
    {
     "name": "stdout",
     "output_type": "stream",
     "text": [
      "https://api-t1.fyers.in/api/v3/generate-authcode?client_id=ORJMNEVXBS-100&redirect_uri=https%3A%2F%2Fwww.google.co.in&response_type=code&state=None\n"
     ]
    }
   ],
   "source": [
    "# Import the required module from the fyers_apiv3 package\n",
    "from fyers_apiv3 import fyersModel\n",
    "import credentials as cd\n",
    "\n",
    "# Replace these values with your actual API credentials\n",
    "client_id = cd.client_id  # Replace with your client ID\n",
    "secret_key = cd.secret_key  # Replace with your secret key\n",
    "redirect_uri = cd.redirect_uri  # Replace with your redirect URI\n",
    "response_type = cd.response_type\n",
    "state = cd.state\n",
    "\n",
    "# Create a session model with the provided credentials\n",
    "session = fyersModel.SessionModel(\n",
    "    client_id=client_id,\n",
    "    secret_key=secret_key,\n",
    "    redirect_uri=redirect_uri,\n",
    "    response_type=response_type\n",
    ")\n",
    "\n",
    "# Generate the auth code using the session model\n",
    "response = session.generate_authcode()\n",
    "\n",
    "# Print the auth code received in the response\n",
    "print(response)\n",
    "authcode= response"
   ]
  },
  {
   "cell_type": "code",
   "execution_count": 15,
   "id": "497d90f6-d4e8-49f7-8381-6509d801c5f0",
   "metadata": {},
   "outputs": [
    {
     "data": {
      "text/plain": [
       "'eyJ0eXAiOiJKV1QiLCJhbGciOiJIUzI1NiJ9.eyJpc3MiOiJhcGkubG9naW4uZnllcnMuaW4iLCJpYXQiOjE3MzIwMDAzMDAsImV4cCI6MTczMjAzMDMwMCwibmJmIjoxNzMxOTk5NzAwLCJhdWQiOiJbXCJ4OjBcIiwgXCJ4OjFcIiwgXCJ4OjJcIiwgXCJkOjFcIiwgXCJkOjJcIiwgXCJ4OjFcIiwgXCJ4OjBcIl0iLCJzdWIiOiJhdXRoX2NvZGUiLCJkaXNwbGF5X25hbWUiOiJZUzQ5MTQ2Iiwib21zIjoiSzEiLCJoc21fa2V5IjoiNGI2ZTZkZDdhOGY0NjQ4ZGJhMmEwYjc5ODUzZGEzZDA2NWEzZTVkNTgyYTkxNTU2Nzk3MzIwNTMiLCJub25jZSI6IiIsImFwcF9pZCI6Ik9SSk1ORVZYQlMiLCJ1dWlkIjoiY2RkYWIxNjg2MzdjNDQ5ZWI1ZjJmM2E3YTk4MGViNTgiLCJpcEFkZHIiOiIwLjAuMC4wIiwic2NvcGUiOiIifQ.l4Ak-iw6wws7_Q9o3H3JT-_W_YzDK6U2DOMQZuCDPrk'"
      ]
     },
     "execution_count": 15,
     "metadata": {},
     "output_type": "execute_result"
    }
   ],
   "source": [
    "uri='https://www.google.co.in/?s=ok&code=200&auth_code=eyJ0eXAiOiJKV1QiLCJhbGciOiJIUzI1NiJ9.eyJpc3MiOiJhcGkubG9naW4uZnllcnMuaW4iLCJpYXQiOjE3MzIwMDAzMDAsImV4cCI6MTczMjAzMDMwMCwibmJmIjoxNzMxOTk5NzAwLCJhdWQiOiJbXCJ4OjBcIiwgXCJ4OjFcIiwgXCJ4OjJcIiwgXCJkOjFcIiwgXCJkOjJcIiwgXCJ4OjFcIiwgXCJ4OjBcIl0iLCJzdWIiOiJhdXRoX2NvZGUiLCJkaXNwbGF5X25hbWUiOiJZUzQ5MTQ2Iiwib21zIjoiSzEiLCJoc21fa2V5IjoiNGI2ZTZkZDdhOGY0NjQ4ZGJhMmEwYjc5ODUzZGEzZDA2NWEzZTVkNTgyYTkxNTU2Nzk3MzIwNTMiLCJub25jZSI6IiIsImFwcF9pZCI6Ik9SSk1ORVZYQlMiLCJ1dWlkIjoiY2RkYWIxNjg2MzdjNDQ5ZWI1ZjJmM2E3YTk4MGViNTgiLCJpcEFkZHIiOiIwLjAuMC4wIiwic2NvcGUiOiIifQ.l4Ak-iw6wws7_Q9o3H3JT-_W_YzDK6U2DOMQZuCDPrk&state=None'\n",
    "s1=uri.split('auth_code=')\n",
    "auth=s1[1].split('&state')[0]\n",
    "auth"
   ]
  },
  {
   "cell_type": "code",
   "execution_count": 16,
   "id": "171f8786-5f85-43e0-8c86-1c232625f1df",
   "metadata": {},
   "outputs": [
    {
     "name": "stdout",
     "output_type": "stream",
     "text": [
      "{'s': 'ok', 'code': 200, 'message': '', 'access_token': 'eyJ0eXAiOiJKV1QiLCJhbGciOiJIUzI1NiJ9.eyJpc3MiOiJhcGkuZnllcnMuaW4iLCJpYXQiOjE3MzIwMDAzMjIsImV4cCI6MTczMjA2MjYwMiwibmJmIjoxNzMyMDAwMzIyLCJhdWQiOlsieDowIiwieDoxIiwieDoyIiwiZDoxIiwiZDoyIiwieDoxIiwieDowIl0sInN1YiI6ImFjY2Vzc190b2tlbiIsImF0X2hhc2giOiJnQUFBQUFCblBEcENPSURaZzhVLUZaRmYtSW4zVFhzbjIzYXJ2SUlvc0d3WjJDOWxkZFd5YkVrSzVZZTVRd3NBV3VOOHVBWXRfOUlBMHZtTm5aZnk5TWdDYnlzNU1lbXBpbEFXVmJKd3d4UTFhTFplSGNxNDlCdz0iLCJkaXNwbGF5X25hbWUiOiJTVU1JIFRIT1RUT1RIVSBTVUtVTUFSQU4iLCJvbXMiOiJLMSIsImhzbV9rZXkiOiI0YjZlNmRkN2E4ZjQ2NDhkYmEyYTBiNzk4NTNkYTNkMDY1YTNlNWQ1ODJhOTE1NTY3OTczMjA1MyIsImZ5X2lkIjoiWVM0OTE0NiIsImFwcFR5cGUiOjEwMCwicG9hX2ZsYWciOiJOIn0.T2oFu4hGwltKR_e81KV8l9J4v4OtgTOPhhjdeyio5lE', 'refresh_token': 'eyJ0eXAiOiJKV1QiLCJhbGciOiJIUzI1NiJ9.eyJpc3MiOiJhcGkuZnllcnMuaW4iLCJpYXQiOjE3MzIwMDAzMjIsImV4cCI6MTczMzI3MjIwMywibmJmIjoxNzMyMDAwMzIyLCJhdWQiOlsieDowIiwieDoxIiwieDoyIiwiZDoxIiwiZDoyIiwieDoxIiwieDowIl0sInN1YiI6InJlZnJlc2hfdG9rZW4iLCJhdF9oYXNoIjoiZ0FBQUFBQm5QRHBDT0lEWmc4VS1GWkZmLUluM1RYc24yM2FydklJb3NHd1oyQzlsZGRXeWJFa0s1WWU1UXdzQVd1Tjh1QVl0XzlJQTB2bU5uWmZ5OU1nQ2J5czVNZW1waWxBV1ZiSnd3eFExYUxaZUhjcTQ5Qnc9IiwiZGlzcGxheV9uYW1lIjoiU1VNSSBUSE9UVE9USFUgU1VLVU1BUkFOIiwib21zIjoiSzEiLCJoc21fa2V5IjoiNGI2ZTZkZDdhOGY0NjQ4ZGJhMmEwYjc5ODUzZGEzZDA2NWEzZTVkNTgyYTkxNTU2Nzk3MzIwNTMiLCJmeV9pZCI6IllTNDkxNDYiLCJhcHBUeXBlIjoxMDAsInBvYV9mbGFnIjoiTiJ9.upGeZdw4fwTuPKTqbudYVucSenkNimZhSr6zF0Nr0x8'}\n"
     ]
    }
   ],
   "source": [
    "# Import the required module from the fyers_apiv3 package\n",
    "from fyers_apiv3 import fyersModel\n",
    "import credentials as cd\n",
    "# Define your Fyers API credentials\n",
    "client_id = cd.client_id\n",
    "secret_key = cd.secret_key\n",
    "redirect_uri = cd.redirect_uri\n",
    "response_type = cd.response_type\n",
    "grant_type = \"authorization_code\"\n",
    "\n",
    "# The authorization code received from Fyers after the user grants access\n",
    "auth_code = auth\n",
    "\n",
    "# Create a session object to handle the Fyers API authentication and token generation\n",
    "session = fyersModel.SessionModel(\n",
    "    client_id=client_id,\n",
    "    secret_key=secret_key, \n",
    "    redirect_uri=redirect_uri, \n",
    "    response_type=response_type, \n",
    "    grant_type=grant_type\n",
    ")\n",
    "\n",
    "# Set the authorization code in the session object\n",
    "session.set_token(auth_code)\n",
    "\n",
    "# Generate the access token using the authorization code\n",
    "response = session.generate_token()\n",
    "\n",
    "# Print the response, which should contain the access token and other details\n",
    "print(response)"
   ]
  },
  {
   "cell_type": "code",
   "execution_count": 18,
   "id": "df7aefce-bcb5-4e7b-aaaf-0baa75720390",
   "metadata": {},
   "outputs": [],
   "source": [
    "access_token=response['access_token']\n",
    "with open('access.txt','w') as k:\n",
    "    k.write(access_token)"
   ]
  },
  {
   "cell_type": "code",
   "execution_count": 19,
   "id": "2bd748b9-2856-4664-bae8-52a78e4e94ab",
   "metadata": {},
   "outputs": [
    {
     "name": "stdout",
     "output_type": "stream",
     "text": [
      "{'code': 200, 'message': '', 's': 'ok', 'overall': {'count_total': 0, 'pnl_perc': 0, 'total_current_value': 0, 'total_investment': 0, 'total_pl': 0}, 'holdings': []}\n"
     ]
    }
   ],
   "source": [
    "# Initialize the FyersModel instance with your client_id, access_token, and enable async mode\n",
    "fyers = fyersModel.FyersModel(client_id=client_id, token=access_token,is_async=False, log_path=\"\")\n",
    "\n",
    "response = fyers.holdings()\n",
    "print(response)"
   ]
  }
 ],
 "metadata": {
  "kernelspec": {
   "display_name": "Python 3 (ipykernel)",
   "language": "python",
   "name": "python3"
  },
  "language_info": {
   "codemirror_mode": {
    "name": "ipython",
    "version": 3
   },
   "file_extension": ".py",
   "mimetype": "text/x-python",
   "name": "python",
   "nbconvert_exporter": "python",
   "pygments_lexer": "ipython3",
   "version": "3.10.11"
  }
 },
 "nbformat": 4,
 "nbformat_minor": 5
}
