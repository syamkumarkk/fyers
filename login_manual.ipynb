{
 "cells": [
  {
   "cell_type": "code",
   "execution_count": 1,
   "id": "af2e6811-e33e-48e1-a2d5-876500ef9397",
   "metadata": {},
   "outputs": [
    {
     "name": "stdout",
     "output_type": "stream",
     "text": [
      "https://api-t1.fyers.in/api/v3/generate-authcode?client_id=ORJMNEVXBS-100&redirect_uri=https%3A%2F%2Fwww.google.co.in&response_type=code&state=None\n"
     ]
    }
   ],
   "source": [
    "# Import the required module from the fyers_apiv3 package\n",
    "from fyers_apiv3 import fyersModel\n",
    "import credentials as cd\n",
    "\n",
    "# Replace these values with your actual API credentials\n",
    "client_id = cd.client_id  # Replace with your client ID\n",
    "secret_key = cd.secret_key  # Replace with your secret key\n",
    "redirect_uri = cd.redirect_uri  # Replace with your redirect URI\n",
    "response_type = cd.response_type\n",
    "state = cd.state\n",
    "\n",
    "# Create a session model with the provided credentials\n",
    "session = fyersModel.SessionModel(\n",
    "    client_id=client_id,\n",
    "    secret_key=secret_key,\n",
    "    redirect_uri=redirect_uri,\n",
    "    response_type=response_type\n",
    "    \n",
    ")\n",
    "\n",
    "# Generate the auth code using the session model\n",
    "response = session.generate_authcode()\n",
    "\n",
    "# Print the auth code received in the response\n",
    "print(response)\n",
    "authcode= response"
   ]
  },
  {
   "cell_type": "code",
   "execution_count": 2,
   "id": "497d90f6-d4e8-49f7-8381-6509d801c5f0",
   "metadata": {},
   "outputs": [
    {
     "data": {
      "text/plain": [
       "'eyJ0eXAiOiJKV1QiLCJhbGciOiJIUzI1NiJ9.eyJpc3MiOiJhcGkubG9naW4uZnllcnMuaW4iLCJpYXQiOjE3MzIyNjgxNTQsImV4cCI6MTczMjI5ODE1NCwibmJmIjoxNzMyMjY3NTU0LCJhdWQiOiJbXCJ4OjBcIiwgXCJ4OjFcIiwgXCJ4OjJcIiwgXCJkOjFcIiwgXCJkOjJcIiwgXCJ4OjFcIiwgXCJ4OjBcIl0iLCJzdWIiOiJhdXRoX2NvZGUiLCJkaXNwbGF5X25hbWUiOiJZUzQ5MTQ2Iiwib21zIjoiSzEiLCJoc21fa2V5IjoiMDcwZWM1MmJmM2YzZmUwZDRkOWNkOGU3ZjU2Njk0NTU1NTMzNjczOTdjYmFkNDQzNTNhMzk1OWIiLCJub25jZSI6IiIsImFwcF9pZCI6Ik9SSk1ORVZYQlMiLCJ1dWlkIjoiYWNkN2VhNmNhMjJkNGQzYjk3ZDBkYzY4NzVmMmQyNzkiLCJpcEFkZHIiOiIwLjAuMC4wIiwic2NvcGUiOiIifQ.t3O8dGEaBctQ-4qm2H7Qse1yDlcJW5GKr_6pi62levk'"
      ]
     },
     "execution_count": 2,
     "metadata": {},
     "output_type": "execute_result"
    }
   ],
   "source": [
    "uri='https://www.google.co.in/?s=ok&code=200&auth_code=eyJ0eXAiOiJKV1QiLCJhbGciOiJIUzI1NiJ9.eyJpc3MiOiJhcGkubG9naW4uZnllcnMuaW4iLCJpYXQiOjE3MzIyNjgxNTQsImV4cCI6MTczMjI5ODE1NCwibmJmIjoxNzMyMjY3NTU0LCJhdWQiOiJbXCJ4OjBcIiwgXCJ4OjFcIiwgXCJ4OjJcIiwgXCJkOjFcIiwgXCJkOjJcIiwgXCJ4OjFcIiwgXCJ4OjBcIl0iLCJzdWIiOiJhdXRoX2NvZGUiLCJkaXNwbGF5X25hbWUiOiJZUzQ5MTQ2Iiwib21zIjoiSzEiLCJoc21fa2V5IjoiMDcwZWM1MmJmM2YzZmUwZDRkOWNkOGU3ZjU2Njk0NTU1NTMzNjczOTdjYmFkNDQzNTNhMzk1OWIiLCJub25jZSI6IiIsImFwcF9pZCI6Ik9SSk1ORVZYQlMiLCJ1dWlkIjoiYWNkN2VhNmNhMjJkNGQzYjk3ZDBkYzY4NzVmMmQyNzkiLCJpcEFkZHIiOiIwLjAuMC4wIiwic2NvcGUiOiIifQ.t3O8dGEaBctQ-4qm2H7Qse1yDlcJW5GKr_6pi62levk&state=None'\n",
    "s1=uri.split('auth_code=')\n",
    "auth=s1[1].split('&state')[0]\n",
    "auth"
   ]
  },
  {
   "cell_type": "code",
   "execution_count": 3,
   "id": "171f8786-5f85-43e0-8c86-1c232625f1df",
   "metadata": {},
   "outputs": [
    {
     "name": "stdout",
     "output_type": "stream",
     "text": [
      "{'s': 'ok', 'code': 200, 'message': '', 'access_token': 'eyJ0eXAiOiJKV1QiLCJhbGciOiJIUzI1NiJ9.eyJpc3MiOiJhcGkuZnllcnMuaW4iLCJpYXQiOjE3MzIyNjgxNzksImV4cCI6MTczMjMyMTgxOSwibmJmIjoxNzMyMjY4MTc5LCJhdWQiOlsieDowIiwieDoxIiwieDoyIiwiZDoxIiwiZDoyIiwieDoxIiwieDowIl0sInN1YiI6ImFjY2Vzc190b2tlbiIsImF0X2hhc2giOiJnQUFBQUFCblFGQ1RPeUgtOFNTSVZlQThQTExQRDgyem1ZZ0hJYnVGb1RpRDgtN01rTUJZb0dVRE8xRFpzN21JeV9jeVU0TV9MVmJYZGE5UmwtN050YlpfRFBzS3J6ZnBDVGVUNlNZUXpPQ1ItcTlEcjRJR1dLRT0iLCJkaXNwbGF5X25hbWUiOiJTVU1JIFRIT1RUT1RIVSBTVUtVTUFSQU4iLCJvbXMiOiJLMSIsImhzbV9rZXkiOiIwNzBlYzUyYmYzZjNmZTBkNGQ5Y2Q4ZTdmNTY2OTQ1NTU1MzM2NzM5N2NiYWQ0NDM1M2EzOTU5YiIsImZ5X2lkIjoiWVM0OTE0NiIsImFwcFR5cGUiOjEwMCwicG9hX2ZsYWciOiJOIn0.jWZVLXwUGgUTIucYG1E4L3rhk3sG9HUAe6MoY68_4yc', 'refresh_token': 'eyJ0eXAiOiJKV1QiLCJhbGciOiJIUzI1NiJ9.eyJpc3MiOiJhcGkuZnllcnMuaW4iLCJpYXQiOjE3MzIyNjgxNzksImV4cCI6MTczMzUzMTQxOSwibmJmIjoxNzMyMjY4MTc5LCJhdWQiOlsieDowIiwieDoxIiwieDoyIiwiZDoxIiwiZDoyIiwieDoxIiwieDowIl0sInN1YiI6InJlZnJlc2hfdG9rZW4iLCJhdF9oYXNoIjoiZ0FBQUFBQm5RRkNUT3lILThTU0lWZUE4UExMUEQ4MnptWWdISWJ1Rm9UaUQ4LTdNa01CWW9HVURPMURaczdtSXlfY3lVNE1fTFZiWGRhOVJsLTdOdGJaX0RQc0tyemZwQ1RlVDZTWVF6T0NSLXE5RHI0SUdXS0U9IiwiZGlzcGxheV9uYW1lIjoiU1VNSSBUSE9UVE9USFUgU1VLVU1BUkFOIiwib21zIjoiSzEiLCJoc21fa2V5IjoiMDcwZWM1MmJmM2YzZmUwZDRkOWNkOGU3ZjU2Njk0NTU1NTMzNjczOTdjYmFkNDQzNTNhMzk1OWIiLCJmeV9pZCI6IllTNDkxNDYiLCJhcHBUeXBlIjoxMDAsInBvYV9mbGFnIjoiTiJ9.Vysj-mqyU0DBz6NsXRg88R3vxmOg2EsrNCczBfN-WB8'}\n"
     ]
    }
   ],
   "source": [
    "# Import the required module from the fyers_apiv3 package\n",
    "from fyers_apiv3 import fyersModel\n",
    "import credentials as cd\n",
    "# Define your Fyers API credentials\n",
    "client_id = cd.client_id\n",
    "secret_key = cd.secret_key\n",
    "redirect_uri = cd.redirect_uri\n",
    "response_type = cd.response_type\n",
    "grant_type = \"authorization_code\"\n",
    "\n",
    "# The authorization code received from Fyers after the user grants access\n",
    "auth_code = auth\n",
    "\n",
    "# Create a session object to handle the Fyers API authentication and token generation\n",
    "session = fyersModel.SessionModel(\n",
    "    client_id=client_id,\n",
    "    secret_key=secret_key, \n",
    "    redirect_uri=redirect_uri, \n",
    "    response_type=response_type, \n",
    "    grant_type=grant_type\n",
    ")\n",
    "\n",
    "# Set the authorization code in the session object\n",
    "session.set_token(auth_code)\n",
    "\n",
    "# Generate the access token using the authorization code\n",
    "response = session.generate_token()\n",
    "\n",
    "# Print the response, which should contain the access token and other details\n",
    "print(response)"
   ]
  },
  {
   "cell_type": "code",
   "execution_count": 4,
   "id": "df7aefce-bcb5-4e7b-aaaf-0baa75720390",
   "metadata": {},
   "outputs": [],
   "source": [
    "access_token=response['access_token']\n",
    "with open('access.txt','w') as k:\n",
    "    k.write(access_token)"
   ]
  },
  {
   "cell_type": "code",
   "execution_count": 5,
   "id": "2bd748b9-2856-4664-bae8-52a78e4e94ab",
   "metadata": {},
   "outputs": [
    {
     "name": "stdout",
     "output_type": "stream",
     "text": [
      "{'code': 200, 'message': '', 's': 'ok', 'overall': {'count_total': 0, 'pnl_perc': 0, 'total_current_value': 0, 'total_investment': 0, 'total_pl': 0}, 'holdings': []}\n"
     ]
    }
   ],
   "source": [
    "# Initialize the FyersModel instance with your client_id, access_token, and enable async mode\n",
    "fyers = fyersModel.FyersModel(client_id=client_id, token=access_token,is_async=False, log_path=\"\")\n",
    "\n",
    "response = fyers.holdings()\n",
    "print(response)"
   ]
  }
 ],
 "metadata": {
  "kernelspec": {
   "display_name": "Python 3 (ipykernel)",
   "language": "python",
   "name": "python3"
  },
  "language_info": {
   "codemirror_mode": {
    "name": "ipython",
    "version": 3
   },
   "file_extension": ".py",
   "mimetype": "text/x-python",
   "name": "python",
   "nbconvert_exporter": "python",
   "pygments_lexer": "ipython3",
   "version": "3.10.11"
  }
 },
 "nbformat": 4,
 "nbformat_minor": 5
}
