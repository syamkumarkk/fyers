{
 "cells": [
  {
   "cell_type": "code",
   "execution_count": 1,
   "id": "1cc6bf36-e7c4-48a1-8080-8b4a0ee2397b",
   "metadata": {},
   "outputs": [
    {
     "name": "stdout",
     "output_type": "stream",
     "text": [
      "[]\n",
      "Empty DataFrame\n",
      "Columns: []\n",
      "Index: []\n"
     ]
    }
   ],
   "source": [
    "from fyers_apiv3 import fyersModel\n",
    "import pandas as pd\n",
    "import datetime as dt\n",
    "import credentials as cd\n",
    "with open('access.txt','r') as a:\n",
    "    access_token=a.read()\n",
    "client_id = cd.client_id\n",
    "\n",
    "fyers = fyersModel.FyersModel(client_id=client_id, token=access_token,is_async=False, log_path=\"\")\n",
    "\n",
    "response = fyers.orderbook()['orderBook']\n",
    "print(response)\n",
    "df=pd.DataFrame(response)\n",
    "print(df)"
   ]
  }
 ],
 "metadata": {
  "kernelspec": {
   "display_name": "Python 3 (ipykernel)",
   "language": "python",
   "name": "python3"
  },
  "language_info": {
   "codemirror_mode": {
    "name": "ipython",
    "version": 3
   },
   "file_extension": ".py",
   "mimetype": "text/x-python",
   "name": "python",
   "nbconvert_exporter": "python",
   "pygments_lexer": "ipython3",
   "version": "3.10.11"
  }
 },
 "nbformat": 4,
 "nbformat_minor": 5
}
