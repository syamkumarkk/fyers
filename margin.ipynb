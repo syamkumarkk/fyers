{
 "cells": [
  {
   "cell_type": "code",
   "execution_count": 4,
   "id": "632b68b5-446c-45a1-a4a7-cfcda5acbaca",
   "metadata": {},
   "outputs": [
    {
     "name": "stdout",
     "output_type": "stream",
     "text": [
      "Error: 400, {\"s\": \"error\", \"code\": -310, \"message\": \"Please provide valid symbols\"}\n"
     ]
    }
   ],
   "source": [
    "import credentials as cd\n",
    "import requests\n",
    "with open('access.txt','r') as a:\n",
    "    access_token=a.read()\n",
    "client_id = cd.client_id\n",
    "api_secret=cd.secret_key\n",
    "\n",
    "from fyers_apiv3 import fyersModel\n",
    "import pandas as pd\n",
    "fyers = fyersModel.FyersModel(client_id=client_id, token=access_token,is_async=False, log_path=\"\")\n",
    "\n",
    "def get_span_margin(api_key, api_secret):\n",
    "    url = \"https://api.fyers.in/api/v2/span_margin\"\n",
    "    \n",
    "    headers = {\n",
    "        'Authorization': f'{api_key}:{access_token}',\n",
    "        'Content-Type': 'application/json'\n",
    "    }\n",
    "    \n",
    "    data = {\n",
    "        \"data\": [\n",
    "\n",
    "            {\n",
    "                \"symbol\": \"NSE:NIFTY21NOV23700CE\",\n",
    "                \"qty\": 50,\n",
    "                \"side\": -1,\n",
    "                \"type\": 2,\n",
    "                \"productType\": \"INTRADAY\",\n",
    "                \"limitPrice\": 0.0,\n",
    "                \"stopLoss\": 0.0\n",
    "            }\n",
    "            ,\n",
    "                        {\n",
    "                \"symbol\": \"NSE:NIFTY21NOV23700PE\",\n",
    "                \"qty\": 50,\n",
    "                \"side\": 1,\n",
    "                \"type\": 2,\n",
    "                \"productType\": \"INTRADAY\",\n",
    "                \"limitPrice\": 0.0,\n",
    "                \"stopLoss\": 0.0\n",
    "            }\n",
    "        ]\n",
    "    }\n",
    "    \n",
    "    response = requests.post(url, headers=headers, json=data)\n",
    "    \n",
    "    if response.status_code == 200:\n",
    "        return response.json()\n",
    "    else:\n",
    "        return f\"Error: {response.status_code}, {response.text}\"\n",
    "\n",
    "\n",
    "result = get_span_margin(client_id, api_secret)\n",
    "print(result)\n"
   ]
  },
  {
   "cell_type": "code",
   "execution_count": null,
   "id": "d224b010-194f-4768-8195-8d4092e5806d",
   "metadata": {},
   "outputs": [],
   "source": []
  }
 ],
 "metadata": {
  "kernelspec": {
   "display_name": "Python 3 (ipykernel)",
   "language": "python",
   "name": "python3"
  },
  "language_info": {
   "codemirror_mode": {
    "name": "ipython",
    "version": 3
   },
   "file_extension": ".py",
   "mimetype": "text/x-python",
   "name": "python",
   "nbconvert_exporter": "python",
   "pygments_lexer": "ipython3",
   "version": "3.10.11"
  }
 },
 "nbformat": 4,
 "nbformat_minor": 5
}
