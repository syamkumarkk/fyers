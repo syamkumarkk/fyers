{
 "cells": [
  {
   "cell_type": "code",
   "execution_count": 1,
   "id": "af2e6811-e33e-48e1-a2d5-876500ef9397",
   "metadata": {},
   "outputs": [
    {
     "name": "stdout",
     "output_type": "stream",
     "text": [
      "https://api-t1.fyers.in/api/v3/generate-authcode?client_id=ORJMNEVXBS-100&redirect_uri=https%3A%2F%2Fwww.google.co.in&response_type=code&state=None\n"
     ]
    }
   ],
   "source": [
    "# Import the required module from the fyers_apiv3 package\n",
    "from fyers_apiv3 import fyersModel\n",
    "import credentials as cd\n",
    "\n",
    "# Replace these values with your actual API credentials\n",
    "client_id = cd.client_id  # Replace with your client ID\n",
    "secret_key = cd.secret_key  # Replace with your secret key\n",
    "redirect_uri = cd.redirect_uri  # Replace with your redirect URI\n",
    "response_type = cd.response_type\n",
    "state = cd.state\n",
    "\n",
    "# Create a session model with the provided credentials\n",
    "session = fyersModel.SessionModel(\n",
    "    client_id=client_id,\n",
    "    secret_key=secret_key,\n",
    "    redirect_uri=redirect_uri,\n",
    "    response_type=response_type\n",
    "    \n",
    ")\n",
    "\n",
    "# Generate the auth code using the session model\n",
    "response = session.generate_authcode()\n",
    "\n",
    "# Print the auth code received in the response\n",
    "print(response)\n",
    "authcode= response"
   ]
  },
  {
   "cell_type": "code",
   "execution_count": 7,
   "id": "497d90f6-d4e8-49f7-8381-6509d801c5f0",
   "metadata": {},
   "outputs": [
    {
     "data": {
      "text/plain": [
       "'eyJhbGciOiJIUzI1NiIsInR5cCI6IkpXVCJ9.eyJpc3MiOiJodHRwczovL2xvZ2luLmZ5ZXJzLmluIiwiaWF0IjoxNzMyMTk0NDQ0LCJleHAiOjE3MzIyMzU0MjQsIm5iZiI6MTczMjE5NDQ0NCwiYXVkIjpbIng6MCIsIng6MSIsIng6MiIsImQ6MSJdLCJzdWIiOiJhY2Nlc3NfdG9rZW4iLCJhdF9oYXNoIjoiZ0FBQUFBQm5QekNNX0ZkeG5NRUtEYnlxUndVaFFDQlViRkFBSmZHd2sxZ0o4WDh6UGJ1X3dNd3FlUTZXcFYya3ZXS203cjc5d0FKWnR1TGw5OGpmQldydVpMTjVJVXZ2TzVpOHBPWTVxZjZGbFBYUXE3bkthcDQ9IiwiZGlzcGxheV9uYW1lIjoiU1VNSSBUSE9UVE9USFUgU1VLVU1BUkFOIiwiZnlfaWQiOiJZUzQ5MTQ2IiwiYXBwVHlwZSI6IiIsInBvYV9mbGFnIjoiTiIsImlzTXRmRW5hYmxlZCI6Ik4iLCJpc0RkcGlFbmFibGVkIjoiTiIsImN1Z19tdGYiOiJOIiwiaHNtX2tleSI6IjRiNmU2ZGQ3YThmNDY0OGRiYTJhMGI3OTg1M2RhM2QwNjVhM2U1ZDU4MmE5MTU1Njc5NzMyMDUzIn0.9gDMaStMr81jof71bg8dCalbUC89W_aT6Pyvh4yFtWc'"
      ]
     },
     "execution_count": 7,
     "metadata": {},
     "output_type": "execute_result"
    }
   ],
   "source": [
    "uri='https://www.google.co.in/?s=ok&code=200&auth_code=eyJ0eXAiOiJKV1QiLCJhbGciOiJIUzI1NiJ9.eyJpc3MiOiJhcGkubG9naW4uZnllcnMuaW4iLCJpYXQiOjE3MzIyNjgxNTQsImV4cCI6MTczMjI5ODE1NCwibmJmIjoxNzMyMjY3NTU0LCJhdWQiOiJbXCJ4OjBcIiwgXCJ4OjFcIiwgXCJ4OjJcIiwgXCJkOjFcIiwgXCJkOjJcIiwgXCJ4OjFcIiwgXCJ4OjBcIl0iLCJzdWIiOiJhdXRoX2NvZGUiLCJkaXNwbGF5X25hbWUiOiJZUzQ5MTQ2Iiwib21zIjoiSzEiLCJoc21fa2V5IjoiMDcwZWM1MmJmM2YzZmUwZDRkOWNkOGU3ZjU2Njk0NTU1NTMzNjczOTdjYmFkNDQzNTNhMzk1OWIiLCJub25jZSI6IiIsImFwcF9pZCI6Ik9SSk1ORVZYQlMiLCJ1dWlkIjoiYWNkN2VhNmNhMjJkNGQzYjk3ZDBkYzY4NzVmMmQyNzkiLCJpcEFkZHIiOiIwLjAuMC4wIiwic2NvcGUiOiIifQ.t3O8dGEaBctQ-4qm2H7Qse1yDlcJW5GKr_6pi62levk&state=None'\n",
    "s1=uri.split('auth_code=')\n",
    "auth=s1[1].split('&state')[0]\n",
    "auth"
   ]
  },
  {
   "cell_type": "code",
   "execution_count": 8,
   "id": "171f8786-5f85-43e0-8c86-1c232625f1df",
   "metadata": {},
   "outputs": [
    {
     "name": "stdout",
     "output_type": "stream",
     "text": [
      "{'s': 'error', 'code': -17, 'message': 'Could not authenticate the user'}\n"
     ]
    }
   ],
   "source": [
    "# Import the required module from the fyers_apiv3 package\n",
    "from fyers_apiv3 import fyersModel\n",
    "import credentials as cd\n",
    "# Define your Fyers API credentials\n",
    "client_id = cd.client_id\n",
    "secret_key = cd.secret_key\n",
    "redirect_uri = cd.redirect_uri\n",
    "response_type = cd.response_type\n",
    "grant_type = \"authorization_code\"\n",
    "\n",
    "# The authorization code received from Fyers after the user grants access\n",
    "auth_code = auth\n",
    "\n",
    "# Create a session object to handle the Fyers API authentication and token generation\n",
    "session = fyersModel.SessionModel(\n",
    "    client_id=client_id,\n",
    "    secret_key=secret_key, \n",
    "    redirect_uri=redirect_uri, \n",
    "    response_type=response_type, \n",
    "    grant_type=grant_type\n",
    ")\n",
    "\n",
    "# Set the authorization code in the session object\n",
    "session.set_token(auth_code)\n",
    "\n",
    "# Generate the access token using the authorization code\n",
    "response = session.generate_token()\n",
    "\n",
    "# Print the response, which should contain the access token and other details\n",
    "print(response)"
   ]
  },
  {
   "cell_type": "code",
   "execution_count": 18,
   "id": "df7aefce-bcb5-4e7b-aaaf-0baa75720390",
   "metadata": {},
   "outputs": [],
   "source": [
    "access_token=response['access_token']\n",
    "with open('access.txt','w') as k:\n",
    "    k.write(access_token)"
   ]
  },
  {
   "cell_type": "code",
   "execution_count": 5,
   "id": "2bd748b9-2856-4664-bae8-52a78e4e94ab",
   "metadata": {},
   "outputs": [
    {
     "ename": "NameError",
     "evalue": "name 'access_token' is not defined",
     "output_type": "error",
     "traceback": [
      "\u001b[1;31m---------------------------------------------------------------------------\u001b[0m",
      "\u001b[1;31mNameError\u001b[0m                                 Traceback (most recent call last)",
      "Cell \u001b[1;32mIn[5], line 2\u001b[0m\n\u001b[0;32m      1\u001b[0m \u001b[38;5;66;03m# Initialize the FyersModel instance with your client_id, access_token, and enable async mode\u001b[39;00m\n\u001b[1;32m----> 2\u001b[0m fyers \u001b[38;5;241m=\u001b[39m fyersModel\u001b[38;5;241m.\u001b[39mFyersModel(client_id\u001b[38;5;241m=\u001b[39mclient_id, token\u001b[38;5;241m=\u001b[39m\u001b[43maccess_token\u001b[49m,is_async\u001b[38;5;241m=\u001b[39m\u001b[38;5;28;01mFalse\u001b[39;00m, log_path\u001b[38;5;241m=\u001b[39m\u001b[38;5;124m\"\u001b[39m\u001b[38;5;124m\"\u001b[39m)\n\u001b[0;32m      4\u001b[0m response \u001b[38;5;241m=\u001b[39m fyers\u001b[38;5;241m.\u001b[39mholdings()\n\u001b[0;32m      5\u001b[0m \u001b[38;5;28mprint\u001b[39m(response)\n",
      "\u001b[1;31mNameError\u001b[0m: name 'access_token' is not defined"
     ]
    }
   ],
   "source": [
    "# Initialize the FyersModel instance with your client_id, access_token, and enable async mode\n",
    "fyers = fyersModel.FyersModel(client_id=client_id, token=access_token,is_async=False, log_path=\"\")\n",
    "\n",
    "response = fyers.holdings()\n",
    "print(response)"
   ]
  }
 ],
 "metadata": {
  "kernelspec": {
   "display_name": "Python 3 (ipykernel)",
   "language": "python",
   "name": "python3"
  },
  "language_info": {
   "codemirror_mode": {
    "name": "ipython",
    "version": 3
   },
   "file_extension": ".py",
   "mimetype": "text/x-python",
   "name": "python",
   "nbconvert_exporter": "python",
   "pygments_lexer": "ipython3",
   "version": "3.10.11"
  }
 },
 "nbformat": 4,
 "nbformat_minor": 5
}
