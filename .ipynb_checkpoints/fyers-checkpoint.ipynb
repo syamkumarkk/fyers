{
 "cells": [
  {
   "cell_type": "code",
   "execution_count": 1,
   "id": "31a65bc3-bdc5-4d4d-9243-0dd08fad361e",
   "metadata": {},
   "outputs": [
    {
     "ename": "ModuleNotFoundError",
     "evalue": "No module named 'config'",
     "output_type": "error",
     "traceback": [
      "\u001b[1;31m---------------------------------------------------------------------------\u001b[0m",
      "\u001b[1;31mModuleNotFoundError\u001b[0m                       Traceback (most recent call last)",
      "Cell \u001b[1;32mIn[1], line 3\u001b[0m\n\u001b[0;32m      1\u001b[0m \u001b[38;5;66;03m# Import the required module from the fyers_apiv3 package\u001b[39;00m\n\u001b[0;32m      2\u001b[0m \u001b[38;5;28;01mfrom\u001b[39;00m \u001b[38;5;21;01mfyers_apiv3\u001b[39;00m \u001b[38;5;28;01mimport\u001b[39;00m fyersModel\n\u001b[1;32m----> 3\u001b[0m \u001b[38;5;28;01mfrom\u001b[39;00m \u001b[38;5;21;01mconfig\u001b[39;00m \u001b[38;5;28;01mimport\u001b[39;00m cf\n\u001b[0;32m      5\u001b[0m \u001b[38;5;66;03m# Replace these values with your actual API credentials\u001b[39;00m\n\u001b[0;32m      6\u001b[0m client_id \u001b[38;5;241m=\u001b[39m cf\u001b[38;5;241m.\u001b[39mclient_id  \u001b[38;5;66;03m# Replace with your client ID\u001b[39;00m\n",
      "\u001b[1;31mModuleNotFoundError\u001b[0m: No module named 'config'"
     ]
    }
   ],
   "source": [
    "# Import the required module from the fyers_apiv3 package\n",
    "from fyers_apiv3 import fyersModel\n",
    "from dotenv import load_dotenv\n",
    "\n",
    "# Replace these values with your actual API credentials\n",
    "client_id = cf.client_id  # Replace with your client ID\n",
    "secret_key = cf.secret_key  # Replace with your secret key\n",
    "redirect_uri = cf.redirect_uri  # Replace with your redirect URI\n",
    "response_type = cf.response_type\n",
    "state = cf.state\n",
    "\n",
    "# Create a session model with the provided credentials\n",
    "session = fyersModel.SessionModel(\n",
    "    client_id=client_id,\n",
    "    secret_key=secret_key,\n",
    "    redirect_uri=redirect_uri,\n",
    "    response_type=response_type\n",
    ")\n",
    "\n",
    "# Generate the auth code using the session model\n",
    "response = session.generate_authcode()\n",
    "\n",
    "# Print the auth code received in the response\n",
    "print(response)\n",
    "authcode= response\n"
   ]
  },
  {
   "cell_type": "code",
   "execution_count": null,
   "id": "d9b67219-fd73-46f6-b12a-15fe42b7c004",
   "metadata": {},
   "outputs": [],
   "source": []
  }
 ],
 "metadata": {
  "kernelspec": {
   "display_name": "Python 3 (ipykernel)",
   "language": "python",
   "name": "python3"
  },
  "language_info": {
   "codemirror_mode": {
    "name": "ipython",
    "version": 3
   },
   "file_extension": ".py",
   "mimetype": "text/x-python",
   "name": "python",
   "nbconvert_exporter": "python",
   "pygments_lexer": "ipython3",
   "version": "3.10.11"
  }
 },
 "nbformat": 4,
 "nbformat_minor": 5
}
